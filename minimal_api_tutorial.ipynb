{
 "cells": [
  {
   "metadata": {},
   "cell_type": "markdown",
   "source": [
    "This tutorial will show how to use numbat to do stuff while *only* making use of **three** Numbat \n",
    "functions:\n",
    "\n",
    "- `nb.ntensor` (to create `ntensor`s)\n",
    "- `nb.lift` (to lift jax functions to operate on `ntensor`s.) \n",
    "- `nb.vmap` (to vmap functions over `ntensor`s)\n"
   ],
   "id": "199c02c94cfc0ed9"
  },
  {
   "metadata": {
    "ExecuteTime": {
     "end_time": "2025-02-26T02:53:01.778480Z",
     "start_time": "2025-02-26T02:52:59.688919Z"
    }
   },
   "cell_type": "code",
   "source": [
    "# import stuff\n",
    "import numbat as nb\n",
    "import jax\n",
    "from jax import numpy as jnp\n",
    "import numpy as onp\n",
    "from sklearn.datasets import fetch_openml\n",
    "import matplotlib.pyplot as plt"
   ],
   "id": "c5ce35c60bbde565",
   "outputs": [],
   "execution_count": 1
  },
  {
   "metadata": {
    "ExecuteTime": {
     "end_time": "2025-02-26T02:53:18.418388Z",
     "start_time": "2025-02-26T02:53:01.783712Z"
    }
   },
   "cell_type": "code",
   "source": [
    "# let's start by loading my favorite MNIST and convert into ntensor format\n",
    "fmnist = fetch_openml(data_id=40996, as_frame=False, parser='liac-arff')"
   ],
   "id": "3f0df6d4870ce988",
   "outputs": [],
   "execution_count": 2
  },
  {
   "metadata": {
    "ExecuteTime": {
     "end_time": "2025-02-26T02:53:19.462842Z",
     "start_time": "2025-02-26T02:53:18.746097Z"
    }
   },
   "cell_type": "code",
   "source": [
    "# convert the data into ntensor format\n",
    "#batch, height, width, cat, hidden, minibatch = nb.axes()\n",
    "data   = jnp.reshape(fmnist[\"data\"],[70000,28,28])/255.0\n",
    "x      = nb.ntensor(data, 'batch', 'height', 'width')\n",
    "y      = nb.ntensor(fmnist[\"target\"].astype(int), 'batch')"
   ],
   "id": "a8fa6a0eeff914bc",
   "outputs": [],
   "execution_count": 3
  },
  {
   "metadata": {
    "ExecuteTime": {
     "end_time": "2025-02-26T02:53:19.478531Z",
     "start_time": "2025-02-26T02:53:19.474682Z"
    }
   },
   "cell_type": "code",
   "source": "print(x.shape)",
   "id": "2f5a07a9eb0ad41a",
   "outputs": [
    {
     "name": "stdout",
     "output_type": "stream",
     "text": [
      "{batch:70000, height:28, width:28}\n"
     ]
    }
   ],
   "execution_count": 4
  },
  {
   "metadata": {
    "ExecuteTime": {
     "end_time": "2025-02-26T02:53:19.600904Z",
     "start_time": "2025-02-26T02:53:19.598085Z"
    }
   },
   "cell_type": "code",
   "source": "print(y.shape)",
   "id": "cfa9dcc1aecb9384",
   "outputs": [
    {
     "name": "stdout",
     "output_type": "stream",
     "text": [
      "{batch:70000}\n"
     ]
    }
   ],
   "execution_count": 5
  },
  {
   "metadata": {
    "ExecuteTime": {
     "end_time": "2025-02-26T02:53:19.708264Z",
     "start_time": "2025-02-26T02:53:19.703636Z"
    }
   },
   "cell_type": "code",
   "source": [
    "# let's make predictions for a SINGLE input\n",
    "def predict(params:dict[str,nb.ntensor], x:nb.ntensor)->nb.ntensor:\n",
    "    \"Given an ntensor for a SINGLE input and a parameter dictionary, compute a single output.\"\n",
    "    assert x.axes == {'width', 'height'}\n",
    "    assert params['w1'].axes == {'width', 'height', 'hidden'}\n",
    "    assert params['b1'].axes == {'hidden'}\n",
    "    assert params['w2'].axes == {'hidden', 'cat'}\n",
    "    assert params['b2'].axes == {'cat'}\n",
    "    \n",
    "    H = nb.lift(jax.nn.relu)(params['w1'] @ x + params['b1'])\n",
    "    out = params['w2'] @ H + params['b2']\n",
    "    \n",
    "    assert H.axes == {'hidden'}\n",
    "    assert out.axes == {'cat'}\n",
    "    return out\n",
    "\n",
    "def logistic_loss(pred:nb.ntensor, y:nb.ntensor)->jnp.ndarray:\n",
    "    \"Given an ntensor of predictions and a SINGLE output, compute loss. Return as a Jax scalar.\"\n",
    "    \n",
    "    assert pred.axes == {'cat'}\n",
    "    assert y.axes == set()\n",
    "    \n",
    "    loss = nb.lift(jax.nn.logsumexp,'cat ->')(pred) - pred(cat=y)\n",
    "\n",
    "    assert loss.axes == set()\n",
    "    return loss.numpy()"
   ],
   "id": "36303fec8ec33b8d",
   "outputs": [],
   "execution_count": 6
  },
  {
   "metadata": {
    "ExecuteTime": {
     "end_time": "2025-02-26T02:53:20.414188Z",
     "start_time": "2025-02-26T02:53:19.730867Z"
    }
   },
   "cell_type": "code",
   "source": [
    "n_hidden = 100\n",
    "params = dict()\n",
    "params['w1'] = nb.ntensor(onp.random.randn(28,28,n_hidden), 'width', 'height', 'hidden')\n",
    "params['b1'] = nb.ntensor(onp.random.randn(n_hidden), 'hidden')\n",
    "params['w2'] = nb.ntensor(onp.random.randn(n_hidden, 10), 'hidden', 'cat')\n",
    "params['b2'] = nb.ntensor(onp.random.randn(10), 'cat')\n",
    "\n",
    "predict(params, x(batch=5))"
   ],
   "id": "334ef00b36d97fb9",
   "outputs": [
    {
     "data": {
      "text/plain": [
       "<ntensor {cat:10} [  10.627531  -90.483055  -77.80947   -51.658047 -109.61517    52.518566\n",
       "  -13.41383   108.30491  -105.74334    66.10221 ]>"
      ]
     },
     "execution_count": 7,
     "metadata": {},
     "output_type": "execute_result"
    }
   ],
   "execution_count": 7
  },
  {
   "metadata": {
    "ExecuteTime": {
     "end_time": "2025-02-26T02:53:20.816309Z",
     "start_time": "2025-02-26T02:53:20.448922Z"
    }
   },
   "cell_type": "code",
   "source": [
    "# loss is Jax scalar, not Numbat scalar\n",
    "logistic_loss(nb.ntensor(jnp.zeros(10), 'cat'), y(batch=0))"
   ],
   "id": "6807e3c8ddddc1aa",
   "outputs": [
    {
     "data": {
      "text/plain": [
       "Array(2.3025851, dtype=float32)"
      ]
     },
     "execution_count": 8,
     "metadata": {},
     "output_type": "execute_result"
    }
   ],
   "execution_count": 8
  },
  {
   "metadata": {
    "ExecuteTime": {
     "end_time": "2025-02-26T02:53:22.241756Z",
     "start_time": "2025-02-26T02:53:20.841688Z"
    }
   },
   "cell_type": "code",
   "source": [
    "def estimate_loss(params:dict[str,nb.ntensor], key:jax.random.PRNGKey)->jnp.ndarray:\n",
    "    \"Given dict of params and Jax PRNGKey, draw random input and output, make predictions, compute loss\"\n",
    "    b = jax.random.randint(key, (), 0, 70000)\n",
    "    my_x = x(batch=b)\n",
    "    my_y = y(batch=b)\n",
    "    pred = predict(params, my_x)\n",
    "    return logistic_loss(pred, my_y)\n",
    "\n",
    "\n",
    "key = jax.random.PRNGKey(0)\n",
    "estimate_loss(params, key)\n",
    "\n",
    "def estimate_loss_batched(params:dict[str,nb.ntensor], key:jax.random.PRNGKey)->jnp.ndarray:\n",
    "    \"\"\"Given dict of params and Jax PRNGKey, draw a BUNCH of inputs, estimate all losses, take mean.\n",
    "    Note we use regular jax.map since key is jax array\n",
    "    \"\"\"\n",
    "    keys = jax.random.split(key, 10)\n",
    "    losses = jax.vmap(estimate_loss, [None, 0])(params, keys)\n",
    "    return jnp.mean(losses)\n",
    "\n",
    "estimate_loss_batched(params, key)"
   ],
   "id": "531a0af14f0ff17c",
   "outputs": [
    {
     "data": {
      "text/plain": [
       "Array(106.34755, dtype=float32)"
      ]
     },
     "execution_count": 9,
     "metadata": {},
     "output_type": "execute_result"
    }
   ],
   "execution_count": 9
  },
  {
   "metadata": {
    "ExecuteTime": {
     "end_time": "2025-02-26T02:53:22.868367Z",
     "start_time": "2025-02-26T02:53:22.252892Z"
    }
   },
   "cell_type": "code",
   "source": [
    "g = jax.grad(estimate_loss_batched)(params, key)\n",
    "{key: g[key].shape for key in g}"
   ],
   "id": "7876a0077edc1f43",
   "outputs": [
    {
     "data": {
      "text/plain": [
       "{'b1': ShapeDict(hidden=100),\n",
       " 'b2': ShapeDict(cat=10),\n",
       " 'w1': ShapeDict(width=28, height=28, hidden=100),\n",
       " 'w2': ShapeDict(hidden=100, cat=10)}"
      ]
     },
     "execution_count": 10,
     "metadata": {},
     "output_type": "execute_result"
    }
   ],
   "execution_count": 10
  },
  {
   "metadata": {
    "ExecuteTime": {
     "end_time": "2025-02-26T02:53:32.382804Z",
     "start_time": "2025-02-26T02:53:22.893981Z"
    }
   },
   "cell_type": "code",
   "source": [
    "def sgd(params:dict[str,nb.ntensor], step, momentum):\n",
    "    #key = nb.ntensor(jax.random.PRNGKey(0),'i')\n",
    "    key = jax.random.PRNGKey(0)\n",
    "    avg_loss = 0\n",
    "    grad_fun = jax.value_and_grad(estimate_loss_batched)\n",
    "    avg_g = {name:params[name]*0 for name in params}\n",
    "    \n",
    "    def next(i, key, params, avg_loss, avg_g):\n",
    "        key, subkey = jax.random.split(key)\n",
    "        loss, g = grad_fun(params, subkey)\n",
    "        beta = nb.lift(jnp.maximum)(momentum, 1/(1+i))\n",
    "        avg_g = {name: (1-beta)*avg_g[name] + beta*g[name] for name in params}\n",
    "        params = {name:params[name] - step*(avg_g[name]) for name in params}        \n",
    "        alpha = jnp.maximum(.01, 1/(i+1))\n",
    "        avg_loss = (1-alpha)*avg_loss + alpha*loss\n",
    "        return key, params, avg_loss, avg_g\n",
    "    \n",
    "    next = jax.jit(next)\n",
    "    \n",
    "    for i in range(250):\n",
    "        key, params, avg_loss, avg_g = next(i, key, params, avg_loss, avg_g)\n",
    "    return params, avg_loss\n",
    "\n",
    "optimized_params, avg_loss = sgd(params, .01, .1)\n",
    "avg_loss"
   ],
   "id": "41aed4fdbcdf569b",
   "outputs": [
    {
     "data": {
      "text/plain": [
       "Array(15.3943405, dtype=float32)"
      ]
     },
     "execution_count": 11,
     "metadata": {},
     "output_type": "execute_result"
    }
   ],
   "execution_count": 11
  },
  {
   "metadata": {
    "ExecuteTime": {
     "end_time": "2025-02-26T02:53:32.580148Z",
     "start_time": "2025-02-26T02:53:32.431818Z"
    }
   },
   "cell_type": "code",
   "source": [
    "steps = nb.ntensor(2.0**-jnp.arange(0.5, 7, 0.5), 'step')\n",
    "moms  = nb.ntensor(2.0**-jnp.arange(0, 8, 2), 'mom')\n",
    "print(f\"{steps=}\")\n",
    "print(f\"{moms=}\")"
   ],
   "id": "426f5083520185c9",
   "outputs": [
    {
     "name": "stdout",
     "output_type": "stream",
     "text": [
      "steps=<ntensor {step:13} [0.70710677 0.5        0.35355338 0.25       0.17677669 0.125\n",
      " 0.08838835 0.0625     0.04419417 0.03125    0.02209709 0.015625\n",
      " 0.01104854]>\n",
      "moms=<ntensor {mom:4} [1.       0.25     0.0625   0.015625]>\n"
     ]
    }
   ],
   "execution_count": 12
  },
  {
   "metadata": {
    "ExecuteTime": {
     "end_time": "2025-02-26T02:53:52.895306Z",
     "start_time": "2025-02-26T02:53:32.634633Z"
    }
   },
   "cell_type": "code",
   "source": [
    "# batch across all steps sizes and all momentums\n",
    "_, avg_loss = nb.vmap(sgd, in_axes={'step','mom'})(params, steps, moms)"
   ],
   "id": "f0482cfd5c7ddd35",
   "outputs": [],
   "execution_count": 13
  },
  {
   "metadata": {
    "ExecuteTime": {
     "end_time": "2025-02-26T02:53:53.523678Z",
     "start_time": "2025-02-26T02:53:52.930296Z"
    }
   },
   "cell_type": "code",
   "source": [
    "plt.semilogx(jnp.array(steps), avg_loss.numpy('step', 'mom'), '.-')\n",
    "plt.xlabel('step size')\n",
    "plt.ylabel('training loss')\n",
    "plt.legend(jnp.array(moms), title='momentum')\n",
    "plt.show()"
   ],
   "id": "5b69d83658e61c7e",
   "outputs": [
    {
     "data": {
      "text/plain": [
       "<Figure size 640x480 with 1 Axes>"
      ],
      "image/png": "[encoded data removed]"
     },
     "metadata": {},
     "output_type": "display_data"
    }
   ],
   "execution_count": 14
  }
 ],
 "metadata": {
  "kernelspec": {
   "display_name": "Python 3",
   "language": "python",
   "name": "python3"
  },
  "language_info": {
   "codemirror_mode": {
    "name": "ipython",
    "version": 2
   },
   "file_extension": ".py",
   "mimetype": "text/x-python",
   "name": "python",
   "nbconvert_exporter": "python",
   "pygments_lexer": "ipython2",
   "version": "2.7.6"
  }
 },
 "nbformat": 4,
 "nbformat_minor": 5
}
